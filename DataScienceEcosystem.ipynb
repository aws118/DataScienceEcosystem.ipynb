{
 "cells": [
  {
   "cell_type": "markdown",
   "id": "f210db87",
   "metadata": {},
   "source": [
    "# Data Science Tools and Ecosystem"
   ]
  },
  {
   "cell_type": "markdown",
   "id": "7bf9e5f9",
   "metadata": {},
   "source": [
    "In this notebook, Data Science Tools and Ecosystem are summarized."
   ]
  },
  {
   "cell_type": "markdown",
   "id": "cec98cbd",
   "metadata": {},
   "source": [
    "Some of the popular languages that Data Scientists use are:\n",
    "1. R\n",
    "2. Python\n",
    "3. julya\n",
    "4. SQL"
   ]
  },
  {
   "cell_type": "markdown",
   "id": "03f511db",
   "metadata": {},
   "source": [
    "__Objectives:__\n",
    "\n",
    " some items covered in this notebook:\n",
    " - the V's of the bug data\n",
    " - Tools for Data science\n",
    " - Big Data Characteristics\n",
    " - Type of data"
   ]
  },
  {
   "cell_type": "markdown",
   "id": "22f71a0f",
   "metadata": {},
   "source": [
    "Some of the commonly used libraries used by Data Scientists include:\n",
    "1. panda\n",
    "2. numpy\n",
    "3. TensorFlow\n",
    "4. SciPy\n",
    "5. Matplotlib"
   ]
  },
  {
   "cell_type": "markdown",
   "id": "3512e23d",
   "metadata": {},
   "source": [
    "Data Science Tools:\n",
    "1. Apache Spark\n",
    "2. Julia\n",
    "3. Jupyter Notebook\n",
    "4. Keras\n",
    "5. Matlab"
   ]
  },
  {
   "cell_type": "markdown",
   "id": "3fcb4e3b",
   "metadata": {},
   "source": [
    "Below are a few examples of evaluating arithmetic expressions in Python\n",
    "1. 2+3\n",
    "2. 4-2\n",
    "3. 2*4\n",
    "4. 5/3\n",
    "5. 7//2 "
   ]
  },
  {
   "cell_type": "code",
   "execution_count": 1,
   "id": "85a16e71",
   "metadata": {},
   "outputs": [
    {
     "data": {
      "text/plain": [
       "17"
      ]
     },
     "execution_count": 1,
     "metadata": {},
     "output_type": "execute_result"
    }
   ],
   "source": [
    "(3*4)+5"
   ]
  },
  {
   "cell_type": "code",
   "execution_count": 14,
   "id": "452ec82d",
   "metadata": {},
   "outputs": [
    {
     "name": "stdout",
     "output_type": "stream",
     "text": [
      "3.3333333333333335\n"
     ]
    }
   ],
   "source": [
    "#This will convert 200 minutes to hours by diving by 60\n",
    "minutes =200\n",
    "hour = minutes/60\n",
    "print(hour)"
   ]
  },
  {
   "cell_type": "markdown",
   "id": "d6fa9c31",
   "metadata": {},
   "source": [
    "## Author \n",
    "Aws Abdullah"
   ]
  },
  {
   "cell_type": "code",
   "execution_count": null,
   "id": "abefb0f6",
   "metadata": {},
   "outputs": [],
   "source": []
  }
 ],
 "metadata": {
  "kernelspec": {
   "display_name": "Python 3 (ipykernel)",
   "language": "python",
   "name": "python3"
  },
  "language_info": {
   "codemirror_mode": {
    "name": "ipython",
    "version": 3
   },
   "file_extension": ".py",
   "mimetype": "text/x-python",
   "name": "python",
   "nbconvert_exporter": "python",
   "pygments_lexer": "ipython3",
   "version": "3.11.5"
  }
 },
 "nbformat": 4,
 "nbformat_minor": 5
}
